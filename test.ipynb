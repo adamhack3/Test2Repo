{
 "cells": [
  {
   "cell_type": "code",
   "execution_count": 9,
   "metadata": {},
   "outputs": [
    {
     "name": "stdout",
     "output_type": "stream",
     "text": [
      "https://images.dog.ceo/breeds/bouvier/n02106382_2543.jpg\n"
     ]
    }
   ],
   "source": [
    "import requests\r\n",
    "\r\n",
    "breed = \"bouvier\"\r\n",
    "base_url = f\"https://dog.ceo/api/breed/{breed}/images/random\"\r\n",
    "\r\n",
    "response = requests.get(base_url)\r\n",
    "\r\n",
    "print(response.json()[\"message\"])"
   ]
  }
 ],
 "metadata": {
  "interpreter": {
   "hash": "e20534569bd28654a8e53fa36c8a60c4da1abed4c07b7aac7e071aff79d9301e"
  },
  "kernelspec": {
   "display_name": "Python 3.9.5 64-bit (windows store)",
   "name": "python3"
  },
  "language_info": {
   "name": "python",
   "version": ""
  },
  "orig_nbformat": 4
 },
 "nbformat": 4,
 "nbformat_minor": 2
}